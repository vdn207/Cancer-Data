{
 "cells": [
  {
   "cell_type": "markdown",
   "metadata": {},
   "source": [
    "# Predictive Modeling on Cancer Data"
   ]
  },
  {
   "cell_type": "code",
   "execution_count": 1,
   "metadata": {
    "collapsed": true
   },
   "outputs": [],
   "source": [
    "import numpy as np \n",
    "import pandas as pd \n",
    "import matplotlib.pyplot as plt "
   ]
  },
  {
   "cell_type": "code",
   "execution_count": 89,
   "metadata": {
    "collapsed": true
   },
   "outputs": [],
   "source": [
    "cancer = pd.read_csv(\"Breast Invasive Carcinoma (TCGA, Provisional).csv\")"
   ]
  },
  {
   "cell_type": "code",
   "execution_count": 3,
   "metadata": {
    "collapsed": false
   },
   "outputs": [
    {
     "data": {
      "text/plain": [
       "'NOT HISPANIC OR LATINO'"
      ]
     },
     "execution_count": 3,
     "metadata": {},
     "output_type": "execute_result"
    }
   ],
   "source": [
    "cancer['ETHNICITY'].value_counts().index[0]"
   ]
  },
  {
   "cell_type": "code",
   "execution_count": 90,
   "metadata": {
    "collapsed": true
   },
   "outputs": [],
   "source": [
    "target_threshold = 30\n",
    "cancer[\"survival\"] = \"\""
   ]
  },
  {
   "cell_type": "code",
   "execution_count": 91,
   "metadata": {
    "collapsed": false
   },
   "outputs": [],
   "source": [
    "def setup_target_variable(df, target_column, new_column, threshold):\n",
    "    '''Changes the target variable values based on the threshold'''\n",
    "\n",
    "    #df.loc[df[target_column].values > threshold, new_column] = 0    # 1 - above the threshold\n",
    "    #df.loc[(df[target_column].values <= threshold) & (df['OS STATUS'] == 'DECEASED'), new_column] = 1   # 0 - below the threshold\n",
    "    #df= df[~((df['OS STATUS'] == 'LIVING') & (df[target_column] <= threshold))]\n",
    "    df[new_column] = np.logical_and(df['OS STATUS'] == 'DECEASED', df[target_column] <= threshold)\n",
    "    \n",
    "    return df "
   ]
  },
  {
   "cell_type": "code",
   "execution_count": 92,
   "metadata": {
    "collapsed": false
   },
   "outputs": [],
   "source": [
    "cancer = setup_target_variable(cancer, 'OS MONTHS', 'survival', target_threshold)"
   ]
  },
  {
   "cell_type": "code",
   "execution_count": 93,
   "metadata": {
    "collapsed": false
   },
   "outputs": [
    {
     "name": "stdout",
     "output_type": "stream",
     "text": [
      "False    1063\n",
      "True       42\n",
      "dtype: int64\n"
     ]
    }
   ],
   "source": [
    "print cancer.survival.value_counts()"
   ]
  },
  {
   "cell_type": "code",
   "execution_count": 94,
   "metadata": {
    "collapsed": false
   },
   "outputs": [],
   "source": [
    "features_chosen_by_domain_knowledge = ['AGE', 'AJCC METASTASIS PATHOLOGIC PM', 'AJCC NODES PATHOLOGIC PN', 'AJCC PATHOLOGIC TUMOR STAGE', 'AJCC TUMOR PATHOLOGIC PT', 'ETHNICITY', 'CNA', 'INITIAL WEIGHT', 'HISTORY NEOADJUVANT TRTYN', 'HISTORY OTHER MALIGNANCY', 'LYMPH NODES EXAMINED', 'Mutation Count', 'ICD O 3 HISTOLOGY', 'ICD O 3 SITE']"
   ]
  },
  {
   "cell_type": "code",
   "execution_count": 95,
   "metadata": {
    "collapsed": true
   },
   "outputs": [],
   "source": [
    "def convert_categorical_to_int(df, column_name):\n",
    "\t'''Convert categorical values into integers'''\t\n",
    "\n",
    "\tcategorical_values = df[column_name].value_counts().index.tolist()\n",
    "\tassigned_value = 0\n",
    "\tfor value in categorical_values:\n",
    "\t\tdf.loc[df[column_name] == value, column_name] = assigned_value\n",
    "\t\tassigned_value += 1\n",
    "\n",
    "\treturn df\n",
    "\n",
    "def handle_categorical_variables(df, list_of_columns):\n",
    "    '''Converts the categorical variables in the list of columns to integers'''\n",
    "    \n",
    "    for column in list_of_columns:\n",
    "        df = convert_categorical_to_int(df, column)\n",
    "    \n",
    "    return df"
   ]
  },
  {
   "cell_type": "code",
   "execution_count": 96,
   "metadata": {
    "collapsed": false
   },
   "outputs": [],
   "source": [
    "\n",
    "cancer = handle_categorical_variables(cancer, ['AJCC METASTASIS PATHOLOGIC PM', 'AJCC NODES PATHOLOGIC PN', 'AJCC PATHOLOGIC TUMOR STAGE', 'AJCC TUMOR PATHOLOGIC PT', 'ETHNICITY', 'GENDER', 'HISTORY NEOADJUVANT TRTYN', 'HISTORY OTHER MALIGNANCY', 'ICD 10', 'ICD O 3 HISTOLOGY', 'ICD O 3 SITE'])\n"
   ]
  },
  {
   "cell_type": "code",
   "execution_count": 97,
   "metadata": {
    "collapsed": false
   },
   "outputs": [
    {
     "name": "stdout",
     "output_type": "stream",
     "text": [
      "58.0\n"
     ]
    }
   ],
   "source": [
    "print cancer['AGE'].median()"
   ]
  },
  {
   "cell_type": "code",
   "execution_count": 98,
   "metadata": {
    "collapsed": true
   },
   "outputs": [],
   "source": [
    "def handle_na(df):\n",
    "    '''Handle the NaN fields'''\n",
    "\n",
    "    df['AGE'].fillna(df['AGE'].mean(), inplace = True)\n",
    "    df['Mutation Count'].fillna(df['Mutation Count'].median(), inplace = True)\n",
    "    df['CNA'].fillna(df['CNA'].mean(), inplace = True)\n",
    "    df['LYMPH NODES EXAMINED'].fillna(df['LYMPH NODES EXAMINED'].mean(), inplace = True)\n",
    "    df['INITIAL WEIGHT'].fillna(df['INITIAL WEIGHT'].mean(), inplace = True)\n",
    "    df['AJCC METASTASIS PATHOLOGIC PM'].fillna(df['AJCC METASTASIS PATHOLOGIC PM'].value_counts().index[0], inplace = True)\n",
    "    df['AJCC NODES PATHOLOGIC PN'].fillna(df['AJCC NODES PATHOLOGIC PN'].value_counts().index[0], inplace = True)\n",
    "    df['AJCC PATHOLOGIC TUMOR STAGE'].fillna(df['AJCC PATHOLOGIC TUMOR STAGE'].value_counts().index[0], inplace = True)\n",
    "    df['AJCC TUMOR PATHOLOGIC PT'].fillna(df['AJCC TUMOR PATHOLOGIC PT'].value_counts().index[0], inplace = True)\n",
    "    df['ETHNICITY'].fillna(df['ETHNICITY'].value_counts().index[0], inplace = True)\n",
    "    df['GENDER'].fillna(df['GENDER'].value_counts().index[0], inplace = True)\n",
    "    df['HISTORY NEOADJUVANT TRTYN'].fillna(df['HISTORY NEOADJUVANT TRTYN'].value_counts().index[0], inplace = True)\n",
    "    df['HISTORY OTHER MALIGNANCY'].fillna(df['HISTORY OTHER MALIGNANCY'].value_counts().index[0], inplace = True)\n",
    "    df['ICD 10'].fillna(df['ICD 10'].value_counts().index[0], inplace = True)\n",
    "    df['ICD O 3 HISTOLOGY'].fillna(df['ICD O 3 HISTOLOGY'].value_counts().index[0], inplace = True)\n",
    "    df['ICD O 3 SITE'].fillna(df['ICD O 3 SITE'].value_counts().index[0], inplace = True)\n",
    "    \n",
    "    return df "
   ]
  },
  {
   "cell_type": "code",
   "execution_count": 99,
   "metadata": {
    "collapsed": false
   },
   "outputs": [
    {
     "name": "stdout",
     "output_type": "stream",
     "text": [
      "0.296227235984\n"
     ]
    }
   ],
   "source": [
    "print cancer['CNA'].mean()"
   ]
  },
  {
   "cell_type": "code",
   "execution_count": 100,
   "metadata": {
    "collapsed": false
   },
   "outputs": [
    {
     "name": "stdout",
     "output_type": "stream",
     "text": [
      "Shape(Before removing NaN):  (1105, 59)\n",
      "Shape(After removing NaN):  (1006, 59)\n"
     ]
    }
   ],
   "source": [
    "cancer = handle_na(cancer)\n",
    "\n",
    "print \"Shape(Before removing NaN): \", cancer.shape\n",
    "cancer_without_nan = cancer.dropna(subset = ['OS MONTHS'])\n",
    "print \"Shape(After removing NaN): \", cancer_without_nan.shape\n",
    "\n",
    "#cancer_without_nan = cancer_without_nan.convert_objects(convert_dates=False, convert_numeric=True, convert_timedeltas=False, copy=True)"
   ]
  },
  {
   "cell_type": "code",
   "execution_count": 101,
   "metadata": {
    "collapsed": false
   },
   "outputs": [
    {
     "data": {
      "text/plain": [
       "False    964\n",
       "True      42\n",
       "dtype: int64"
      ]
     },
     "execution_count": 101,
     "metadata": {},
     "output_type": "execute_result"
    }
   ],
   "source": [
    "cancer_without_nan['survival'].value_counts()"
   ]
  },
  {
   "cell_type": "code",
   "execution_count": 19,
   "metadata": {
    "collapsed": false
   },
   "outputs": [
    {
     "data": {
      "text/plain": [
       "array([0, 1], dtype=object)"
      ]
     },
     "execution_count": 19,
     "metadata": {},
     "output_type": "execute_result"
    }
   ],
   "source": [
    "np.unique(cancer_without_nan.survival)"
   ]
  },
  {
   "cell_type": "code",
   "execution_count": 46,
   "metadata": {
    "collapsed": true
   },
   "outputs": [],
   "source": [
    "from sklearn.tree import DecisionTreeClassifier\n",
    "from sklearn.linear_model import LogisticRegression\n",
    "from sklearn.svm import SVC\n",
    "from sklearn.ensemble import RandomForestClassifier\n",
    "from sklearn.cross_validation import cross_val_score, train_test_split\n",
    "from sklearn.metrics import roc_auc_score\n",
    "from sklearn import grid_search\n",
    "import matplotlib.pyplot as plt\n",
    "%matplotlib inline"
   ]
  },
  {
   "cell_type": "code",
   "execution_count": 47,
   "metadata": {
    "collapsed": false
   },
   "outputs": [],
   "source": [
    "def decision_tree_model_with_cv(training_data, target_data, k, leaf, split):\n",
    "    decision_tree = DecisionTreeClassifier(criterion = 'entropy', min_samples_split = split, min_samples_leaf = leaf)\n",
    "    cv_score_auc = cross_val_score(decision_tree, training_data, target_data, scoring = 'roc_auc', cv=k)\n",
    "    cv_score_f1 = cross_val_score(decision_tree, training_data, target_data, scoring = 'f1', cv=k)\n",
    "    cv_score_precision = cross_val_score(decision_tree, training_data, target_data, scoring = 'precision', cv=k)\n",
    "    \n",
    "    #plt.plot(range(len(cv_score_auc)), cv_score_auc, 'r', label = 'DT (Mean: %.2f)' % (cv_score_auc.mean()))\n",
    "    \n",
    "    return cv_score_auc.mean(), cv_score_auc.std(), cv_score_f1.mean(), cv_score_precision.mean()"
   ]
  },
  {
   "cell_type": "code",
   "execution_count": 48,
   "metadata": {
    "collapsed": true
   },
   "outputs": [],
   "source": [
    "def logistic_regression_model_with_cv(training_data, target_data, k, c):\n",
    "    lr = LogisticRegression(C=c)\n",
    "    cv_score_auc = cross_val_score(lr, training_data, target_data, scoring = 'roc_auc', cv=k)\n",
    "    cv_score_f1 = cross_val_score(lr, training_data, target_data, scoring = 'f1', cv=k)\n",
    "    cv_score_precision = cross_val_score(lr, training_data, target_data, scoring = 'precision', cv=k)\n",
    "    \n",
    "    #plt.plot(range(len(cv_score_auc)), cv_score_auc, 'g', label = 'LR (Mean: %.2f)' % (cv_score_auc.mean()))\n",
    "    \n",
    "    return cv_score_auc.mean(), cv_score_auc.std(), cv_score_f1.mean(), cv_score_precision.mean()"
   ]
  },
  {
   "cell_type": "code",
   "execution_count": 49,
   "metadata": {
    "collapsed": true
   },
   "outputs": [],
   "source": [
    "def svm_model_with_cv(training_data, target_data, k, c):\n",
    "    svm = SVC(C=c)\n",
    "    cv_score_auc = cross_val_score(svm, training_data, target_data, scoring = 'roc_auc', cv=k)\n",
    "    cv_score_f1 = cross_val_score(svm, training_data, target_data, scoring = 'f1', cv=k)\n",
    "    cv_score_precision = cross_val_score(svm, training_data, target_data, scoring = 'precision', cv=k)\n",
    "    \n",
    "    #plt.plot(range(len(cv_score_auc)), cv_score_auc, 'b', label = 'SVM (Mean: %.2f)' % (cv_score_auc.mean()))\n",
    "    \n",
    "    return cv_score_auc.mean(), cv_score_auc.std(), cv_score_f1.mean(), cv_score_precision.mean()"
   ]
  },
  {
   "cell_type": "code",
   "execution_count": 50,
   "metadata": {
    "collapsed": true
   },
   "outputs": [],
   "source": [
    "def rf_model_with_cv(training_data, target_data, k, n_est):\n",
    "    rf = RandomForestClassifier(n_estimators = n_est, criterion = \"entropy\")\n",
    "    cv_score_auc = cross_val_score(rf, training_data, target_data.astype(int), scoring = 'roc_auc', cv=k)\n",
    "    cv_score_f1 = cross_val_score(rf, training_data, target_data.astype(int), scoring = 'f1', cv=k)\n",
    "    cv_score_precision = cross_val_score(rf, training_data, target_data.astype(int), scoring = 'precision', cv=k)\n",
    "    \n",
    "    #plt.plot(range(len(cv_score_auc)), cv_score_auc, 'c', label = 'RF (Mean: %.2f)' % (cv_score_auc.mean()))\n",
    "    \n",
    "    return cv_score_auc.mean(), cv_score_auc.std(), cv_score_f1.mean(), cv_score_precision.mean()"
   ]
  },
  {
   "cell_type": "code",
   "execution_count": 102,
   "metadata": {
    "collapsed": false
   },
   "outputs": [
    {
     "name": "stdout",
     "output_type": "stream",
     "text": [
      "(804, 14)\n",
      "(202, 14)\n",
      "(804,)\n",
      "(202,)\n"
     ]
    }
   ],
   "source": [
    "# Setting up the data for finding optimal hyperparameters\n",
    "\n",
    "final_features = features_chosen_by_domain_knowledge + ['survival']\n",
    "cancer_without_nan = cancer_without_nan[final_features]\n",
    "\n",
    "dead_people = cancer_without_nan[cancer_without_nan['survival'] == True]\n",
    "alive_people = cancer_without_nan[cancer_without_nan['survival'] == False]\n",
    "\n",
    "dead_train, dead_test = train_test_split(dead_people, train_size = 0.8)\n",
    "alive_train, alive_test = train_test_split(alive_people, train_size = 0.8)\n",
    "\n",
    "training = pd.concat([dead_train, alive_train])\n",
    "test = pd.concat([dead_test, alive_test])\n",
    "\n",
    "cancer_training = training.drop('survival', 1)\n",
    "cancer_testing = test.drop('survival', 1)\n",
    "survival_training = training['survival']\n",
    "survival_testing = test['survival']\n",
    "\n",
    "print cancer_training.shape\n",
    "print cancer_testing.shape\n",
    "print survival_training.shape\n",
    "print survival_testing.shape"
   ]
  },
  {
   "cell_type": "code",
   "execution_count": 103,
   "metadata": {
    "collapsed": false,
    "scrolled": true
   },
   "outputs": [
    {
     "name": "stdout",
     "output_type": "stream",
     "text": [
      "(AUC, F-Score, Precision)\n",
      "Decision Tree:  (0.55467865467865463, 0.10928856967667511, 0.15079365079365079, 0.125)\n",
      "Logistic Regression:  (0.68274225774225772, 0.19043273920103176, 0.0, 0.0)\n",
      "SVM:  (0.59972943722943728, 0.17586697468805734, 0.0, 0.0)\n",
      "Random Forest:  (0.64454711954711952, 0.1736195966515349, 0.050000000000000003, 0.0)\n"
     ]
    },
    {
     "data": {
      "image/png": "[encoded data removed]",
      "text/plain": [
       "<matplotlib.figure.Figure at 0xa78f564c>"
      ]
     },
     "metadata": {},
     "output_type": "display_data"
    }
   ],
   "source": [
    "dt_with_cv = decision_tree_model_with_cv(cancer_training, survival_training, 10, 2, 1)\n",
    "lr_with_cv = logistic_regression_model_with_cv(cancer_training, survival_training, 10, 1.0)\n",
    "svm_with_cv = svm_model_with_cv(cancer_training, survival_training, 10, 1.0)\n",
    "rf_with_cv = rf_model_with_cv(cancer_training, survival_training, 10, 10)\n",
    "\n",
    "plt.xlabel(\"Folds (Cross Vaidation)\")\n",
    "plt.ylabel(\"AUC\")\n",
    "plt.title('AUC Values During Cross-Validation (Default Hyperparameters)')\n",
    "plt.legend(loc = 'lower right')\n",
    "\n",
    "print \"(AUC, F-Score, Precision)\"\n",
    "print \"Decision Tree: \", dt_with_cv\n",
    "print \"Logistic Regression: \", lr_with_cv\n",
    "print \"SVM: \", svm_with_cv\n",
    "print \"Random Forest: \", rf_with_cv"
   ]
  },
  {
   "cell_type": "code",
   "execution_count": 107,
   "metadata": {
    "collapsed": false
   },
   "outputs": [
    {
     "data": {
      "image/png": "[encoded data removed]",
      "text/plain": [
       "<matplotlib.figure.Figure at 0xa743370c>"
      ]
     },
     "metadata": {},
     "output_type": "display_data"
    }
   ],
   "source": [
    "rf_for_ig = RandomForestClassifier(n_estimators = 10, criterion = \"entropy\")\n",
    "features_information_gain = rf_for_ig.fit(cancer_training, survival_training).feature_importances_\n",
    "#print dict(zip(cancer_training.columns.values, features_information_gain))\n",
    "plt.barh(np.arange(1, 29, 2), list(features_information_gain))\n",
    "plt.xlabel('Feature Importance')\n",
    "plt.title('Bar Plot of Feature Importance Provided by Random Forest')\n",
    "plt.yticks(np.arange(1, 29, 2) + 0.25, list(cancer_training.columns.values))\n",
    "plt.savefig('info_gain_rf.png')"
   ]
  },
  {
   "cell_type": "code",
   "execution_count": 13,
   "metadata": {
    "collapsed": true
   },
   "outputs": [],
   "source": [
    "# Decision Tree Model Hyperparameters\n",
    "class DT_HyperParam:\n",
    "    \n",
    "    def __init__(self, max_depth, min_samples_split, min_samples_leaf, max_features):\n",
    "        self.max_depth = max_depth\n",
    "        self.min_samples_split = min_samples_split\n",
    "        self.min_samples_leaf = min_samples_leaf\n",
    "        self.max_features = max_features\n",
    "        \n",
    "    def get_max_depth(self):\n",
    "        return self.max_depth\n",
    "    \n",
    "    def get_min_samples_split(self):\n",
    "        return self.min_samples_split\n",
    "    \n",
    "    def get_min_samples_leaf(self):\n",
    "        return self.min_samples_leaf\n",
    "    \n",
    "    def get_max_features(self):\n",
    "        return self.max_features"
   ]
  },
  {
   "cell_type": "code",
   "execution_count": 108,
   "metadata": {
    "collapsed": false
   },
   "outputs": [],
   "source": [
    "# Searching optimal hyperparameters for SVM\n",
    "powers_svm = np.arange(-2, 2, 0.2)\n",
    "cs_svm = [10**exp for exp in powers_svm]\n",
    "cv_auc_svm_mean = []\n",
    "cv_auc_svm_std = []\n",
    "\n",
    "for C_svm in cs_svm:\n",
    "\n",
    "    cv_auc_svm_mean_iter = []\n",
    "    cv_auc_svm_std_iter = []\n",
    "    \n",
    "    for i in range(10):\n",
    "        cv_auc_svm = svm_model_with_cv(cancer_training, survival_training, 10, C_svm)\n",
    "        cv_auc_svm_mean_iter.append(cv_auc_svm[0])\n",
    "        cv_auc_svm_std_iter.append(cv_auc_svm[1])\n",
    "    \n",
    "    cv_auc_svm_mean.append(np.array(cv_auc_svm_mean_iter).mean())\n",
    "    cv_auc_svm_std.append(np.array(cv_auc_svm_mean_iter).std())"
   ]
  },
  {
   "cell_type": "code",
   "execution_count": 78,
   "metadata": {
    "collapsed": false,
    "scrolled": true
   },
   "outputs": [
    {
     "name": "stdout",
     "output_type": "stream",
     "text": [
      "The optimal value of C for SVM is 10^-0.000000\n"
     ]
    },
    {
     "data": {
      "image/png": "[encoded data removed]",
      "text/plain": [
       "<matplotlib.figure.Figure at 0xa79a90ac>"
      ]
     },
     "metadata": {},
     "output_type": "display_data"
    }
   ],
   "source": [
    "plt.plot(np.log10(cs_svm), cv_auc_svm_mean, 'g', label = \"Max = %.2f\" % (max(cv_auc_svm_mean)))\n",
    "plt.plot(np.log10(cs_svm), [x + y for (x, y) in zip(cv_auc_svm_mean, cv_auc_svm_std)], 'b', label = 'Mean + SD')\n",
    "plt.plot(np.log10(cs_svm), [x - y for (x, y) in zip(cv_auc_svm_mean, cv_auc_svm_std)], 'r', label = 'Mean - SD')\n",
    "plt.xlabel(\"log10(C)\")\n",
    "plt.ylabel(\"Mean AUC (10-Fold CV)\")\n",
    "plt.legend(loc = 'lower right')\n",
    "plt.title(\"SVM - Mean AUC for Different Values of C\")\n",
    "plt.savefig('svm_optimal_C.png')\n",
    "\n",
    "print \"The optimal value of C for SVM is 10^%f\" % powers_svm[cv_auc_svm_mean.index(max(cv_auc_svm_mean))]"
   ]
  },
  {
   "cell_type": "code",
   "execution_count": 75,
   "metadata": {
    "collapsed": false
   },
   "outputs": [],
   "source": [
    "# Searching optimal hyperparameters for Logistic Regression\n",
    "powers_lr = np.arange(-2, 5, 0.5)\n",
    "cs_lr = [10**exp for exp in powers_lr]\n",
    "cv_auc_lr_mean = []\n",
    "cv_auc_lr_std = []\n",
    "\n",
    "for C_lr in cs_lr:\n",
    "    \n",
    "    cv_auc_lr_mean_iter = []\n",
    "    cv_auc_lr_std_iter = []\n",
    "    \n",
    "    for i in range(10):    \n",
    "        cv_auc_lr = logistic_regression_model_with_cv(cancer_training, survival_training, 10, C_lr)\n",
    "        cv_auc_lr_mean_iter.append(cv_auc_lr[0])\n",
    "        cv_auc_lr_std_iter.append(cv_auc_lr[1])\n",
    "        \n",
    "    cv_auc_lr_mean.append(np.array(cv_auc_lr_mean_iter).mean())\n",
    "    cv_auc_lr_std.append(np.array(cv_auc_lr_std_iter).mean())"
   ]
  },
  {
   "cell_type": "code",
   "execution_count": 76,
   "metadata": {
    "collapsed": false,
    "scrolled": true
   },
   "outputs": [
    {
     "name": "stdout",
     "output_type": "stream",
     "text": [
      "The optimal value of C for LR is 10^3.500000\n"
     ]
    },
    {
     "data": {
      "image/png": "[encoded data removed]",
      "text/plain": [
       "<matplotlib.figure.Figure at 0xa75ad74c>"
      ]
     },
     "metadata": {},
     "output_type": "display_data"
    }
   ],
   "source": [
    "plt.plot(np.log10(cs_lr), cv_auc_lr_mean, 'g', label = \"Max = %.2f\" % (max(cv_auc_lr_mean)))\n",
    "plt.plot(np.log10(cs_lr), [x + y for (x, y) in zip(cv_auc_lr_mean, cv_auc_lr_std)], 'b', label = 'Mean + SD')\n",
    "plt.plot(np.log10(cs_lr), [x - y for (x, y) in zip(cv_auc_lr_mean, cv_auc_lr_std)], 'r', label = 'Mean - SD')\n",
    "plt.xlabel(\"log10(C)\")\n",
    "plt.ylabel(\"Mean AUC (10-Fold CV)\")\n",
    "plt.legend(loc = 'lower right')\n",
    "plt.title(\"LR - Mean AUC for Different Values of C\")\n",
    "plt.savefig('lr_optimal_C.png')\n",
    "\n",
    "\n",
    "print \"The optimal value of C for LR is 10^%f\" % powers_lr[cv_auc_lr_mean.index(max(cv_auc_lr_mean))]"
   ]
  },
  {
   "cell_type": "code",
   "execution_count": 81,
   "metadata": {
    "collapsed": true
   },
   "outputs": [],
   "source": [
    "# Searching optimal hyperparameters for Decision Tree\n",
    "n_depths = range(10, 100, 5)\n",
    "cv_auc_rf_mean = []\n",
    "cv_auc_rf_std = []\n",
    "\n",
    "for n_d in n_depths:\n",
    "    \n",
    "    cv_auc_rf_mean_iter = []\n",
    "    cv_auc_rf_std_iter = []\n",
    "    \n",
    "    for i in range(10):    \n",
    "        cv_auc_rf = rf_model_with_cv(cancer_training, survival_training, 10, n_d)\n",
    "        cv_auc_rf_mean_iter.append(cv_auc_rf[0])\n",
    "        cv_auc_rf_std_iter.append(cv_auc_rf[1])\n",
    "        \n",
    "    cv_auc_rf_mean.append(np.array(cv_auc_rf_mean_iter).mean())\n",
    "    cv_auc_rf_std.append(np.array(cv_auc_rf_std_iter).mean())"
   ]
  },
  {
   "cell_type": "code",
   "execution_count": 82,
   "metadata": {
    "collapsed": false
   },
   "outputs": [
    {
     "name": "stdout",
     "output_type": "stream",
     "text": [
      "The optimal depth for RF is 85\n"
     ]
    },
    {
     "data": {
      "image/png": "[encoded data removed]",
      "text/plain": [
       "<matplotlib.figure.Figure at 0xa795c24c>"
      ]
     },
     "metadata": {},
     "output_type": "display_data"
    }
   ],
   "source": [
    "plt.plot(n_depths, cv_auc_rf_mean, 'g', label = \"Max = %.2f\" % (max(cv_auc_rf_mean)))\n",
    "plt.plot(n_depths, [x + y for (x, y) in zip(cv_auc_rf_mean, cv_auc_rf_std)], 'b', label = 'Mean + SD')\n",
    "plt.plot(n_depths, [x - y for (x, y) in zip(cv_auc_rf_mean, cv_auc_rf_std)], 'r', label = 'Mean - SD')\n",
    "plt.xlabel(\"Number of Trees\")\n",
    "plt.ylabel(\"Mean AUC (10-Fold CV)\")\n",
    "plt.legend(loc = 'lower right')\n",
    "plt.title(\"Random Forest - Mean AUC for Different Tree Depths\")\n",
    "plt.savefig('rf_optimal_depth.png')\n",
    "\n",
    "\n",
    "print \"The optimal depth for RF is %d\" % n_depths[cv_auc_rf_mean.index(max(cv_auc_rf_mean))]"
   ]
  },
  {
   "cell_type": "code",
   "execution_count": 70,
   "metadata": {
    "collapsed": false
   },
   "outputs": [
    {
     "name": "stdout",
     "output_type": "stream",
     "text": [
      "The AUC on the test set is  0.778353483017\n"
     ]
    }
   ],
   "source": [
    "# Testing LR\n",
    "\n",
    "lr = LogisticRegression(C=10**3.5)\n",
    "survival_predicted = lr.fit(cancer_training, survival_training).predict_proba(cancer_testing)\n",
    "survival = lr.fit(cancer_training, survival_training).predict(cancer_testing)\n",
    "lr_auc_score = roc_auc_score(survival_testing, survival_predicted[:, 1])\n",
    "\n",
    "print \"The AUC on the test set is \", lr_auc_score"
   ]
  },
  {
   "cell_type": "code",
   "execution_count": 62,
   "metadata": {
    "collapsed": false
   },
   "outputs": [
    {
     "name": "stdout",
     "output_type": "stream",
     "text": [
      "             precision    recall  f1-score   support\n",
      "\n",
      "       True       0.96      0.99      0.97       193\n",
      "      False       0.00      0.00      0.00         9\n",
      "\n",
      "avg / total       0.91      0.95      0.93       202\n",
      "\n"
     ]
    }
   ],
   "source": [
    "from sklearn.metrics import classification_report\n",
    "\n",
    "target_names = ['True', 'False']\n",
    "print (classification_report(survival_testing, survival, target_names = target_names))"
   ]
  },
  {
   "cell_type": "code",
   "execution_count": null,
   "metadata": {
    "collapsed": true
   },
   "outputs": [],
   "source": []
  }
 ],
 "metadata": {
  "kernelspec": {
   "display_name": "Python 2",
   "language": "python",
   "name": "python2"
  },
  "language_info": {
   "codemirror_mode": {
    "name": "ipython",
    "version": 2
   },
   "file_extension": ".py",
   "mimetype": "text/x-python",
   "name": "python",
   "nbconvert_exporter": "python",
   "pygments_lexer": "ipython2",
   "version": "2.7.10"
  }
 },
 "nbformat": 4,
 "nbformat_minor": 0
}
